{
 "cells": [
  {
   "cell_type": "markdown",
   "id": "61534d38-4905-4fdf-952d-c5d4c307437e",
   "metadata": {},
   "source": [
    "# Name:Shruti Pardeshi\n",
    "# Branch: IT"
   ]
  },
  {
   "cell_type": "code",
   "execution_count": 1,
   "id": "248c2ebb-3a42-448c-93f8-9ec7594a28fb",
   "metadata": {},
   "outputs": [],
   "source": [
    "import numpy as np"
   ]
  },
  {
   "cell_type": "code",
   "execution_count": 5,
   "id": "6564995b-ebdf-4dfc-a8e3-358390a85ec8",
   "metadata": {},
   "outputs": [],
   "source": [
    "arr = np.array([1,3,5,6])"
   ]
  },
  {
   "cell_type": "code",
   "execution_count": 6,
   "id": "be0e4485-61bd-44df-a693-7ac5a76171b6",
   "metadata": {},
   "outputs": [
    {
     "data": {
      "text/plain": [
       "array([1, 3, 5, 6])"
      ]
     },
     "execution_count": 6,
     "metadata": {},
     "output_type": "execute_result"
    }
   ],
   "source": [
    "arr"
   ]
  },
  {
   "cell_type": "code",
   "execution_count": 31,
   "id": "bd76d639-c1da-427c-a1f1-3a549427193c",
   "metadata": {},
   "outputs": [
    {
     "data": {
      "text/plain": [
       "np.float64(3.75)"
      ]
     },
     "execution_count": 31,
     "metadata": {},
     "output_type": "execute_result"
    }
   ],
   "source": [
    "np.average(arr)"
   ]
  },
  {
   "cell_type": "code",
   "execution_count": 8,
   "id": "5706ed5b-504b-4c1b-b1e9-212cce670a2a",
   "metadata": {},
   "outputs": [
    {
     "data": {
      "text/plain": [
       "array([[0., 0., 0.],\n",
       "       [0., 0., 0.]])"
      ]
     },
     "execution_count": 8,
     "metadata": {},
     "output_type": "execute_result"
    }
   ],
   "source": [
    "np.zeros((2,3))"
   ]
  },
  {
   "cell_type": "code",
   "execution_count": 9,
   "id": "1e4ad50d-ba81-43e3-8754-2147f15ca380",
   "metadata": {},
   "outputs": [
    {
     "data": {
      "text/plain": [
       "array([[1., 1., 1., 1.],\n",
       "       [1., 1., 1., 1.],\n",
       "       [1., 1., 1., 1.],\n",
       "       [1., 1., 1., 1.]])"
      ]
     },
     "execution_count": 9,
     "metadata": {},
     "output_type": "execute_result"
    }
   ],
   "source": [
    "np.ones((4,4))"
   ]
  },
  {
   "cell_type": "code",
   "execution_count": 11,
   "id": "ec033a70-86bc-465f-b78d-c619ef38e864",
   "metadata": {},
   "outputs": [
    {
     "data": {
      "text/plain": [
       "array([ 3,  9, 15, 21, 27, 33, 39, 45, 51, 57, 63, 69, 75, 81, 87, 93, 99])"
      ]
     },
     "execution_count": 11,
     "metadata": {},
     "output_type": "execute_result"
    }
   ],
   "source": [
    "np.arange(3,100,6)"
   ]
  },
  {
   "cell_type": "code",
   "execution_count": 13,
   "id": "162092ed-1d8a-4e5d-b12f-db2dd8b95ead",
   "metadata": {},
   "outputs": [],
   "source": [
    "a = np.array([1, 0, 0])\n",
    "b = np.array([0, 1, 0])"
   ]
  },
  {
   "cell_type": "code",
   "execution_count": 14,
   "id": "5f27cc79-1c7b-4b68-b34f-43f18b12ff03",
   "metadata": {},
   "outputs": [
    {
     "name": "stdout",
     "output_type": "stream",
     "text": [
      "[0 0 1]\n"
     ]
    }
   ],
   "source": [
    "result = np.cross(a, b)\n",
    "print(result)"
   ]
  },
  {
   "cell_type": "code",
   "execution_count": 15,
   "id": "e92ff5ca-cabc-4f60-a22e-30e9e431380d",
   "metadata": {},
   "outputs": [
    {
     "data": {
      "text/plain": [
       "np.int64(0)"
      ]
     },
     "execution_count": 15,
     "metadata": {},
     "output_type": "execute_result"
    }
   ],
   "source": [
    "np.dot(a, b)"
   ]
  },
  {
   "cell_type": "code",
   "execution_count": 16,
   "id": "5346ca5a-4a8b-4cfd-a401-ab64589c258b",
   "metadata": {},
   "outputs": [
    {
     "data": {
      "text/plain": [
       "array([[0, 1, 0],\n",
       "       [0, 0, 0],\n",
       "       [0, 0, 0]])"
      ]
     },
     "execution_count": 16,
     "metadata": {},
     "output_type": "execute_result"
    }
   ],
   "source": [
    "np.outer(a, b)"
   ]
  },
  {
   "cell_type": "code",
   "execution_count": 17,
   "id": "9dd9bad4-01f1-4242-8f9b-9bd6caa6e24d",
   "metadata": {},
   "outputs": [
    {
     "data": {
      "text/plain": [
       "np.float64(1.0)"
      ]
     },
     "execution_count": 17,
     "metadata": {},
     "output_type": "execute_result"
    }
   ],
   "source": [
    "np.linalg.norm(a)  "
   ]
  },
  {
   "cell_type": "code",
   "execution_count": 19,
   "id": "f5baa667-a43c-4177-adab-6bbadc520604",
   "metadata": {},
   "outputs": [
    {
     "name": "stdout",
     "output_type": "stream",
     "text": [
      "[[ 1  2  5  6]\n",
      " [ 3  4  7  8]\n",
      " [ 9 10 13 14]\n",
      " [11 12 15 16]]\n"
     ]
    }
   ],
   "source": [
    "a = np.array([[1, 2], [3, 4]])\n",
    "b = np.array([[5, 6], [7, 8]])\n",
    "c = np.array([[9, 10], [11, 12]])\n",
    "d = np.array([[13, 14], [15, 16]])\n",
    "result = np.block([\n",
    "    [a,b],\n",
    "    [c,d]\n",
    "])\n",
    "print(result)"
   ]
  },
  {
   "cell_type": "code",
   "execution_count": 30,
   "id": "d8cbbb78-f52e-4706-a7c1-8565d6c5a95b",
   "metadata": {},
   "outputs": [
    {
     "name": "stdout",
     "output_type": "stream",
     "text": [
      "[[ 1  2  1  5]\n",
      " [ 3  4  7  3]\n",
      " [ 9 10 13 14]\n",
      " [11 12 15 16]]\n"
     ]
    }
   ],
   "source": [
    "block_matrix = np.bmat([[a, b],[c, d]])\n",
    "print(block_matrix)"
   ]
  },
  {
   "cell_type": "code",
   "execution_count": 21,
   "id": "b6d6e087-c93c-4a18-b76e-64158828768e",
   "metadata": {},
   "outputs": [
    {
     "data": {
      "text/plain": [
       "array([[0.8671352 , 0.61456081],\n",
       "       [0.16324427, 0.36429662]])"
      ]
     },
     "execution_count": 21,
     "metadata": {},
     "output_type": "execute_result"
    }
   ],
   "source": [
    "np.random.rand(2, 2)"
   ]
  },
  {
   "cell_type": "code",
   "execution_count": 22,
   "id": "5d4df375-9e71-4f42-af2f-e7113f2dc3bd",
   "metadata": {},
   "outputs": [],
   "source": [
    "index = [0, 1, 0, 1]\n",
    "c1 = [10, 20, 30, 40]\n",
    "c2 = [100, 200, 300, 400]"
   ]
  },
  {
   "cell_type": "code",
   "execution_count": 23,
   "id": "7d70a1a9-d577-45cb-b568-f2629ffc142d",
   "metadata": {},
   "outputs": [
    {
     "name": "stdout",
     "output_type": "stream",
     "text": [
      "[ 10 200  30 400]\n"
     ]
    }
   ],
   "source": [
    "result = np.choose(index, [c1, c2])\n",
    "print(result)"
   ]
  },
  {
   "cell_type": "code",
   "execution_count": 24,
   "id": "c013094b-5531-4737-989b-530bd9154875",
   "metadata": {},
   "outputs": [
    {
     "data": {
      "text/plain": [
       "4"
      ]
     },
     "execution_count": 24,
     "metadata": {},
     "output_type": "execute_result"
    }
   ],
   "source": [
    "np.size(a) "
   ]
  },
  {
   "cell_type": "code",
   "execution_count": 25,
   "id": "f095fe3d-9854-43d6-a26b-fdd6d5fd9b23",
   "metadata": {},
   "outputs": [
    {
     "data": {
      "text/plain": [
       "(2, 2)"
      ]
     },
     "execution_count": 25,
     "metadata": {},
     "output_type": "execute_result"
    }
   ],
   "source": [
    "a = np.array([[1, 2], [3, 4]])\n",
    "a.shape "
   ]
  },
  {
   "cell_type": "code",
   "execution_count": 26,
   "id": "b6291498-50a7-468b-9826-5878122a3dce",
   "metadata": {},
   "outputs": [
    {
     "data": {
      "text/plain": [
       "2"
      ]
     },
     "execution_count": 26,
     "metadata": {},
     "output_type": "execute_result"
    }
   ],
   "source": [
    "np.ndim(a)"
   ]
  },
  {
   "cell_type": "code",
   "execution_count": 27,
   "id": "14640656-4887-46f4-8ed7-0b2f366cc6aa",
   "metadata": {},
   "outputs": [
    {
     "name": "stdout",
     "output_type": "stream",
     "text": [
      "9\n"
     ]
    }
   ],
   "source": [
    "s = np.array([4, 1, 9, 6])\n",
    "result = np.amax(s)\n",
    "print(result)"
   ]
  },
  {
   "cell_type": "code",
   "execution_count": 28,
   "id": "347b79fa-9f6d-4c6e-8550-501e0facf3f8",
   "metadata": {},
   "outputs": [
    {
     "name": "stdout",
     "output_type": "stream",
     "text": [
      "Row max: [5 7]\n",
      "Col max: [7 5]\n"
     ]
    }
   ],
   "source": [
    "b = np.array([[1, 5], [7, 3]])\n",
    "row_max = np.amax(b, axis=1)  \n",
    "col_max = np.amax(b, axis=0)  \n",
    "print(\"Row max:\", row_max)\n",
    "print(\"Col max:\", col_max)"
   ]
  },
  {
   "cell_type": "code",
   "execution_count": 29,
   "id": "c0b07300-0b90-42c5-97d9-93cf15ca5552",
   "metadata": {},
   "outputs": [
    {
     "data": {
      "text/plain": [
       "np.float64(5.68)"
      ]
     },
     "execution_count": 29,
     "metadata": {},
     "output_type": "execute_result"
    }
   ],
   "source": [
    "np.round(5.6789, 2)"
   ]
  },
  {
   "cell_type": "code",
   "execution_count": 32,
   "id": "da6d8ec2-f684-4b51-86c9-0a343b2af29a",
   "metadata": {},
   "outputs": [
    {
     "name": "stdout",
     "output_type": "stream",
     "text": [
      "9\n"
     ]
    }
   ],
   "source": [
    "a = np.array([3, 7, 1, 9, 5])\n",
    "print(np.amax(a))"
   ]
  },
  {
   "cell_type": "code",
   "execution_count": 34,
   "id": "9c978e3a-9b12-4d43-81a5-1e2951a5a086",
   "metadata": {},
   "outputs": [
    {
     "name": "stdout",
     "output_type": "stream",
     "text": [
      "1\n"
     ]
    }
   ],
   "source": [
    "print(np.amin(a))"
   ]
  },
  {
   "cell_type": "code",
   "execution_count": 35,
   "id": "d3e98131-fef9-4d6b-920f-57c604184521",
   "metadata": {},
   "outputs": [
    {
     "name": "stdout",
     "output_type": "stream",
     "text": [
      "[3 7 1 9 5 4 5]\n"
     ]
    }
   ],
   "source": [
    "print(np.append(a, [4, 5]))"
   ]
  },
  {
   "cell_type": "code",
   "execution_count": 38,
   "id": "6c5d59de-b89f-423b-b83e-a85f88b3b4f6",
   "metadata": {},
   "outputs": [
    {
     "name": "stdout",
     "output_type": "stream",
     "text": [
      "[ True False  True False]\n"
     ]
    }
   ],
   "source": [
    "x = np.array([1, 2, 3, 4])\n",
    "y = np.array([1, 0, 3, 5])\n",
    "print(np.equal(x, y))"
   ]
  },
  {
   "cell_type": "code",
   "execution_count": 39,
   "id": "a04a5a7b-3b4d-4a78-9ca4-011283b21554",
   "metadata": {},
   "outputs": [
    {
     "data": {
      "text/plain": [
       "array([3, 3, 3, 4])"
      ]
     },
     "execution_count": 39,
     "metadata": {},
     "output_type": "execute_result"
    }
   ],
   "source": [
    "np.clip(x, 3, 7)"
   ]
  },
  {
   "cell_type": "code",
   "execution_count": 40,
   "id": "95bd76a5-d69e-4d33-ac19-f012d21a5cea",
   "metadata": {},
   "outputs": [
    {
     "data": {
      "text/plain": [
       "{'divide': 'warn', 'over': 'warn', 'under': 'ignore', 'invalid': 'warn'}"
      ]
     },
     "execution_count": 40,
     "metadata": {},
     "output_type": "execute_result"
    }
   ],
   "source": [
    "np.geterr()"
   ]
  },
  {
   "cell_type": "code",
   "execution_count": 41,
   "id": "cdf30bfb-0734-4770-875c-a05e554daa78",
   "metadata": {},
   "outputs": [
    {
     "data": {
      "text/plain": [
       "{'divide': 'warn', 'over': 'warn', 'under': 'ignore', 'invalid': 'warn'}"
      ]
     },
     "execution_count": 41,
     "metadata": {},
     "output_type": "execute_result"
    }
   ],
   "source": [
    "np.seterr(divide='raise', over='ignore')"
   ]
  },
  {
   "cell_type": "code",
   "execution_count": 44,
   "id": "7dcaf1cd-7dd3-489b-bd83-8cfceef09b68",
   "metadata": {},
   "outputs": [
    {
     "name": "stdout",
     "output_type": "stream",
     "text": [
      "32\n"
     ]
    }
   ],
   "source": [
    "buffer_size = x.nbytes\n",
    "print(buffer_size)"
   ]
  },
  {
   "cell_type": "code",
   "execution_count": 45,
   "id": "e0a3955f-5758-4ee8-b4d8-704922a66f1d",
   "metadata": {},
   "outputs": [
    {
     "name": "stdout",
     "output_type": "stream",
     "text": [
      "[[1.66666667 2.5       ]\n",
      " [2.5        4.91666667]]\n"
     ]
    }
   ],
   "source": [
    "data = np.array([x, y])\n",
    "cov_matrix = np.cov(data)\n",
    "print(cov_matrix)"
   ]
  },
  {
   "cell_type": "code",
   "execution_count": 46,
   "id": "82166bc3-afcb-4942-a43c-5bce665e571e",
   "metadata": {},
   "outputs": [
    {
     "data": {
      "text/plain": [
       "array([False,  True, False, False])"
      ]
     },
     "execution_count": 46,
     "metadata": {},
     "output_type": "execute_result"
    }
   ],
   "source": [
    "np.greater(x,y)"
   ]
  },
  {
   "cell_type": "code",
   "execution_count": 47,
   "id": "79fc7782-a088-458f-b12d-5bd8ec52559f",
   "metadata": {},
   "outputs": [
    {
     "data": {
      "text/plain": [
       "array([1., 1., 1., 1.])"
      ]
     },
     "execution_count": 47,
     "metadata": {},
     "output_type": "execute_result"
    }
   ],
   "source": [
    "np.gradient(x)"
   ]
  },
  {
   "cell_type": "code",
   "execution_count": 49,
   "id": "27fa3e37-b8e0-4ef0-a87d-650be053b3e1",
   "metadata": {},
   "outputs": [
    {
     "data": {
      "text/plain": [
       "(array([1., 0., 0., 1., 0., 0., 1., 0., 0., 1.]),\n",
       " [array([1. , 1.3, 1.6, 1.9, 2.2, 2.5, 2.8, 3.1, 3.4, 3.7, 4. ])])"
      ]
     },
     "execution_count": 49,
     "metadata": {},
     "output_type": "execute_result"
    }
   ],
   "source": [
    "np.histogramdd(x, bins=10, range=None)"
   ]
  },
  {
   "cell_type": "code",
   "execution_count": 52,
   "id": "8e3f6c4c-12ec-40f9-994d-3c7fed8a331a",
   "metadata": {},
   "outputs": [
    {
     "data": {
      "text/plain": [
       "[array([1, 2]), array([3, 4])]"
      ]
     },
     "execution_count": 52,
     "metadata": {},
     "output_type": "execute_result"
    }
   ],
   "source": [
    "np.hsplit(x, 2)"
   ]
  },
  {
   "cell_type": "code",
   "execution_count": 55,
   "id": "42ed1dda-2fea-4f66-ac0d-c4f342900a67",
   "metadata": {},
   "outputs": [
    {
     "data": {
      "text/plain": [
       "array([1, 2, 3, 4])"
      ]
     },
     "execution_count": 55,
     "metadata": {},
     "output_type": "execute_result"
    }
   ],
   "source": [
    "np.hstack(x)"
   ]
  },
  {
   "cell_type": "code",
   "execution_count": 56,
   "id": "083acb80-94e3-48aa-b67d-94f417833daa",
   "metadata": {},
   "outputs": [
    {
     "data": {
      "text/plain": [
       "array([1.41421356, 2.        , 4.24264069, 6.40312424])"
      ]
     },
     "execution_count": 56,
     "metadata": {},
     "output_type": "execute_result"
    }
   ],
   "source": [
    "np.hypot(x,y)"
   ]
  },
  {
   "cell_type": "code",
   "execution_count": null,
   "id": "42091ef9-d296-4096-91c0-fa1baa2e0c3b",
   "metadata": {},
   "outputs": [],
   "source": []
  }
 ],
 "metadata": {
  "kernelspec": {
   "display_name": "Python 3 (ipykernel)",
   "language": "python",
   "name": "python3"
  },
  "language_info": {
   "codemirror_mode": {
    "name": "ipython",
    "version": 3
   },
   "file_extension": ".py",
   "mimetype": "text/x-python",
   "name": "python",
   "nbconvert_exporter": "python",
   "pygments_lexer": "ipython3",
   "version": "3.13.5"
  }
 },
 "nbformat": 4,
 "nbformat_minor": 5
}
