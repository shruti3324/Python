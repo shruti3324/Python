{
 "cells": [
  {
   "cell_type": "markdown",
   "id": "c3935169-fb1d-4c8c-9868-10679277f2d7",
   "metadata": {},
   "source": [
    "# Name:Shruti Pardeshi\n",
    "# Branch: IT"
   ]
  },
  {
   "cell_type": "markdown",
   "id": "8e612f33-c946-421a-b495-17dde13123cc",
   "metadata": {},
   "source": [
    "# 1. if_else statements"
   ]
  },
  {
   "cell_type": "code",
   "execution_count": 1,
   "id": "b6248048-53b9-4c46-8f0d-5ca2c1e33fb0",
   "metadata": {},
   "outputs": [
    {
     "name": "stdin",
     "output_type": "stream",
     "text": [
      "Enter number:  52\n"
     ]
    }
   ],
   "source": [
    "num = int(input(\"Enter number: \"))"
   ]
  },
  {
   "cell_type": "code",
   "execution_count": 2,
   "id": "2bc7178b-4482-4974-991e-9ea9074288a1",
   "metadata": {},
   "outputs": [
    {
     "name": "stdout",
     "output_type": "stream",
     "text": [
      "Even number.\n"
     ]
    }
   ],
   "source": [
    "if num % 2 == 0:\n",
    "    print(\"Even number.\")\n",
    "else:\n",
    "    print(\"Odd number.\")"
   ]
  },
  {
   "cell_type": "code",
   "execution_count": 3,
   "id": "48fdfab5-d775-43ea-8860-c3a895bd0070",
   "metadata": {},
   "outputs": [
    {
     "name": "stdin",
     "output_type": "stream",
     "text": [
      "Enter your marks:  86\n"
     ]
    }
   ],
   "source": [
    "marks = int(input(\"Enter your marks: \"))"
   ]
  },
  {
   "cell_type": "code",
   "execution_count": 4,
   "id": "d66057a0-8fce-4ae9-80a2-22a98007ff03",
   "metadata": {},
   "outputs": [
    {
     "name": "stdout",
     "output_type": "stream",
     "text": [
      "Grade: B\n"
     ]
    }
   ],
   "source": [
    "if marks >= 90:\n",
    "    print(\"Grade: A\")\n",
    "elif marks >= 80:\n",
    "    print(\"Grade: B\")\n",
    "elif marks >= 70:\n",
    "    print(\"Grade: C\")\n",
    "elif marks >= 60:\n",
    "    print(\"Grade: D\")\n",
    "else:\n",
    "    print(\"Grade: F\")\n"
   ]
  },
  {
   "cell_type": "code",
   "execution_count": 5,
   "id": "b5f3c8ed-4542-4e92-807f-9637114b4423",
   "metadata": {},
   "outputs": [],
   "source": [
    "num = 20"
   ]
  },
  {
   "cell_type": "code",
   "execution_count": 6,
   "id": "376a3b81-caac-4258-aa7a-5b230f984479",
   "metadata": {},
   "outputs": [
    {
     "name": "stdout",
     "output_type": "stream",
     "text": [
      "Positive\n"
     ]
    }
   ],
   "source": [
    "if num > 0:\n",
    "    print(\"Positive\")\n",
    "elif num == 0:\n",
    "    print(\"Zero\")\n",
    "else:\n",
    "    print(\"Negative\")\n"
   ]
  },
  {
   "cell_type": "markdown",
   "id": "c241d3a0-4e18-4623-b927-a989325a3071",
   "metadata": {},
   "source": [
    "# 2. Operators"
   ]
  },
  {
   "cell_type": "markdown",
   "id": "351af818-0253-49ad-952d-cd33a64fce5f",
   "metadata": {},
   "source": [
    "# Arithmetic Operator"
   ]
  },
  {
   "cell_type": "markdown",
   "id": "728eb1a5-8f48-4eee-8798-6099b2dcaa3a",
   "metadata": {},
   "source": [
    "a = float(input(\"Enter first number: \"))"
   ]
  },
  {
   "cell_type": "code",
   "execution_count": 3,
   "id": "b73ab5a8-020b-40f6-a44a-c88bd36c715e",
   "metadata": {},
   "outputs": [
    {
     "name": "stdin",
     "output_type": "stream",
     "text": [
      "Enter second number:  36\n"
     ]
    }
   ],
   "source": [
    "b = float(input(\"Enter second number: \"))"
   ]
  },
  {
   "cell_type": "code",
   "execution_count": 4,
   "id": "b5ed868b-5fef-4914-886a-cdf27333891f",
   "metadata": {},
   "outputs": [
    {
     "name": "stdout",
     "output_type": "stream",
     "text": [
      "Addition: 76.0\n"
     ]
    }
   ],
   "source": [
    "print(\"Addition:\", a + b)"
   ]
  },
  {
   "cell_type": "code",
   "execution_count": 5,
   "id": "5a441e66-a232-4514-b5a9-3613417538ab",
   "metadata": {},
   "outputs": [
    {
     "name": "stdout",
     "output_type": "stream",
     "text": [
      "Subtraction= 4.0\n"
     ]
    }
   ],
   "source": [
    "print(\"Subtraction=\", a - b) "
   ]
  },
  {
   "cell_type": "code",
   "execution_count": 6,
   "id": "d4e6352c-5699-42fc-8fac-082673b44547",
   "metadata": {},
   "outputs": [
    {
     "name": "stdout",
     "output_type": "stream",
     "text": [
      "Multiplication: 1440.0\n"
     ]
    }
   ],
   "source": [
    "print(\"Multiplication:\", a * b)"
   ]
  },
  {
   "cell_type": "code",
   "execution_count": 7,
   "id": "25633f47-07c1-4576-94a2-be6399495ee5",
   "metadata": {},
   "outputs": [
    {
     "name": "stdout",
     "output_type": "stream",
     "text": [
      "Division: 1.1111111111111112\n"
     ]
    }
   ],
   "source": [
    "print(\"Division:\", a / b)"
   ]
  },
  {
   "cell_type": "code",
   "execution_count": 8,
   "id": "73a18e92-8a2b-4dbd-aed4-9f1c978e93d9",
   "metadata": {},
   "outputs": [
    {
     "name": "stdout",
     "output_type": "stream",
     "text": [
      " Floor Division: 1.0\n"
     ]
    }
   ],
   "source": [
    "print(\" Floor Division:\", a // b)"
   ]
  },
  {
   "cell_type": "code",
   "execution_count": 9,
   "id": "c897545c-fa10-48be-bf65-2e969161b361",
   "metadata": {},
   "outputs": [
    {
     "name": "stdout",
     "output_type": "stream",
     "text": [
      "Modulus: 4.0\n"
     ]
    }
   ],
   "source": [
    "print(\"Modulus:\", a % b)"
   ]
  },
  {
   "cell_type": "code",
   "execution_count": 10,
   "id": "aadbfd32-2cd9-4c58-a4a6-b99ac35b36e8",
   "metadata": {},
   "outputs": [
    {
     "name": "stdout",
     "output_type": "stream",
     "text": [
      "Exponentiation: 4.7223664828696454e+57\n"
     ]
    }
   ],
   "source": [
    "print(\"Exponentiation:\", a ** b)"
   ]
  },
  {
   "cell_type": "code",
   "execution_count": 11,
   "id": "77d07661-caa1-4bdf-b808-188fd5e9885e",
   "metadata": {},
   "outputs": [
    {
     "name": "stdout",
     "output_type": "stream",
     "text": [
      "power: 25\n"
     ]
    }
   ],
   "source": [
    "print(\"power:\",5**2)"
   ]
  },
  {
   "cell_type": "markdown",
   "id": "660308a4-028a-4f79-a992-8be57bbce71b",
   "metadata": {},
   "source": [
    "# Comparison Operator"
   ]
  },
  {
   "cell_type": "code",
   "execution_count": 12,
   "id": "25e2d55d-8092-4eba-9c32-00f9d928a016",
   "metadata": {},
   "outputs": [
    {
     "name": "stdin",
     "output_type": "stream",
     "text": [
      "Enter first number:  25\n"
     ]
    }
   ],
   "source": [
    "c = float(input(\"Enter first number: \"))"
   ]
  },
  {
   "cell_type": "code",
   "execution_count": 13,
   "id": "d2b11ae6-d652-411c-87b5-027c8d385a4c",
   "metadata": {},
   "outputs": [
    {
     "name": "stdin",
     "output_type": "stream",
     "text": [
      "Enter second number:  15\n"
     ]
    }
   ],
   "source": [
    "d = float(input(\"Enter second number: \"))"
   ]
  },
  {
   "cell_type": "code",
   "execution_count": 14,
   "id": "2fafde25-15ee-4c56-ba2a-78c3c5d24c42",
   "metadata": {},
   "outputs": [
    {
     "data": {
      "text/plain": [
       "False"
      ]
     },
     "execution_count": 14,
     "metadata": {},
     "output_type": "execute_result"
    }
   ],
   "source": [
    "c == d"
   ]
  },
  {
   "cell_type": "code",
   "execution_count": 15,
   "id": "c1577716-ef1b-47b9-a9ba-373a3355458d",
   "metadata": {},
   "outputs": [
    {
     "data": {
      "text/plain": [
       "True"
      ]
     },
     "execution_count": 15,
     "metadata": {},
     "output_type": "execute_result"
    }
   ],
   "source": [
    "c != d"
   ]
  },
  {
   "cell_type": "code",
   "execution_count": 16,
   "id": "9c68892b-5bca-4134-b56b-b2c236fd79f2",
   "metadata": {},
   "outputs": [
    {
     "data": {
      "text/plain": [
       "True"
      ]
     },
     "execution_count": 16,
     "metadata": {},
     "output_type": "execute_result"
    }
   ],
   "source": [
    "c > d"
   ]
  },
  {
   "cell_type": "code",
   "execution_count": 17,
   "id": "8b1067fb-1a2d-4eee-8876-a9d74206fe6f",
   "metadata": {},
   "outputs": [
    {
     "data": {
      "text/plain": [
       "False"
      ]
     },
     "execution_count": 17,
     "metadata": {},
     "output_type": "execute_result"
    }
   ],
   "source": [
    "c < d"
   ]
  },
  {
   "cell_type": "code",
   "execution_count": 18,
   "id": "0ca3d380-b979-422d-ad6d-7300bf687a8d",
   "metadata": {},
   "outputs": [
    {
     "data": {
      "text/plain": [
       "True"
      ]
     },
     "execution_count": 18,
     "metadata": {},
     "output_type": "execute_result"
    }
   ],
   "source": [
    "c >= d"
   ]
  },
  {
   "cell_type": "code",
   "execution_count": 19,
   "id": "76c34ac1-bde6-41d9-89e4-0abc1e58c96a",
   "metadata": {},
   "outputs": [
    {
     "data": {
      "text/plain": [
       "False"
      ]
     },
     "execution_count": 19,
     "metadata": {},
     "output_type": "execute_result"
    }
   ],
   "source": [
    "c <= d"
   ]
  },
  {
   "cell_type": "code",
   "execution_count": 20,
   "id": "76a7253f-3090-4341-b678-494a52ef43cc",
   "metadata": {},
   "outputs": [
    {
     "data": {
      "text/plain": [
       "True"
      ]
     },
     "execution_count": 20,
     "metadata": {},
     "output_type": "execute_result"
    }
   ],
   "source": [
    "a != c"
   ]
  },
  {
   "cell_type": "markdown",
   "id": "0ccdd9ab-ca3e-4f3d-b247-86ea4b14b4cd",
   "metadata": {},
   "source": [
    "# Logical Operator"
   ]
  },
  {
   "cell_type": "code",
   "execution_count": 21,
   "id": "d53d3dee-1bd9-4b73-8a51-c883f8cc45be",
   "metadata": {},
   "outputs": [],
   "source": [
    "a = True\n",
    "b = False"
   ]
  },
  {
   "cell_type": "code",
   "execution_count": 22,
   "id": "cee6ceb6-6bab-4e35-8bd1-85ea872947fc",
   "metadata": {},
   "outputs": [
    {
     "data": {
      "text/plain": [
       "False"
      ]
     },
     "execution_count": 22,
     "metadata": {},
     "output_type": "execute_result"
    }
   ],
   "source": [
    "a and b"
   ]
  },
  {
   "cell_type": "code",
   "execution_count": 24,
   "id": "16bece36-4427-4cf8-bd3a-e9adc704dc57",
   "metadata": {},
   "outputs": [
    {
     "data": {
      "text/plain": [
       "True"
      ]
     },
     "execution_count": 24,
     "metadata": {},
     "output_type": "execute_result"
    }
   ],
   "source": [
    "a or b"
   ]
  },
  {
   "cell_type": "code",
   "execution_count": 25,
   "id": "c1734847-584e-4e81-8f39-4f0f0dbe435c",
   "metadata": {},
   "outputs": [
    {
     "data": {
      "text/plain": [
       "False"
      ]
     },
     "execution_count": 25,
     "metadata": {},
     "output_type": "execute_result"
    }
   ],
   "source": [
    "not a"
   ]
  },
  {
   "cell_type": "markdown",
   "id": "93008608-c454-4b32-9e6e-3521d0737ff5",
   "metadata": {},
   "source": [
    "# Bitwise Operator"
   ]
  },
  {
   "cell_type": "code",
   "execution_count": 26,
   "id": "2124cfdf-fd6b-4b63-bd59-27632812a932",
   "metadata": {},
   "outputs": [],
   "source": [
    "x = 25\n",
    "y = 30"
   ]
  },
  {
   "cell_type": "code",
   "execution_count": 27,
   "id": "d6347c00-8b2a-4f8f-9b17-09cb75300a1b",
   "metadata": {},
   "outputs": [
    {
     "data": {
      "text/plain": [
       "24"
      ]
     },
     "execution_count": 27,
     "metadata": {},
     "output_type": "execute_result"
    }
   ],
   "source": [
    "x & y"
   ]
  },
  {
   "cell_type": "code",
   "execution_count": 28,
   "id": "b6b5d515-5d84-497b-9b4d-97b43361d953",
   "metadata": {},
   "outputs": [
    {
     "data": {
      "text/plain": [
       "31"
      ]
     },
     "execution_count": 28,
     "metadata": {},
     "output_type": "execute_result"
    }
   ],
   "source": [
    "x | y"
   ]
  },
  {
   "cell_type": "markdown",
   "id": "d7b7755f-71c6-4b05-a7a7-07eb040da3d7",
   "metadata": {},
   "source": [
    "# Assignment Operator"
   ]
  },
  {
   "cell_type": "code",
   "execution_count": 29,
   "id": "698783b6-3c3f-461d-bac1-aa56cdaf3a79",
   "metadata": {},
   "outputs": [],
   "source": [
    "s = 10"
   ]
  },
  {
   "cell_type": "code",
   "execution_count": 30,
   "id": "8bc1ae6c-3c61-4816-9f8f-5a94dfa47aa2",
   "metadata": {},
   "outputs": [
    {
     "name": "stdout",
     "output_type": "stream",
     "text": [
      "s += 5 : 15\n"
     ]
    }
   ],
   "source": [
    "s += 5\n",
    "print(\"s += 5 :\", s)"
   ]
  },
  {
   "cell_type": "code",
   "execution_count": 32,
   "id": "b7908f9d-5160-4520-b8cd-34dcd76046ed",
   "metadata": {},
   "outputs": [
    {
     "name": "stdout",
     "output_type": "stream",
     "text": [
      "s -= 4 : 7\n"
     ]
    }
   ],
   "source": [
    "s -= 4\n",
    "print(\"s -= 4 :\", s)"
   ]
  },
  {
   "cell_type": "code",
   "execution_count": 33,
   "id": "f7047f7a-87a5-46ce-a0d8-b8b74925defb",
   "metadata": {},
   "outputs": [
    {
     "name": "stdout",
     "output_type": "stream",
     "text": [
      "s *= 2 : 14\n"
     ]
    }
   ],
   "source": [
    "s *= 2\n",
    "print(\"s *= 2 :\", s)"
   ]
  },
  {
   "cell_type": "code",
   "execution_count": 34,
   "id": "afc48642-2ab4-40f9-9403-d293998e8c03",
   "metadata": {},
   "outputs": [
    {
     "name": "stdout",
     "output_type": "stream",
     "text": [
      "s /= 4 : 3.5\n"
     ]
    }
   ],
   "source": [
    "s /= 4\n",
    "print(\"s /= 4 :\", s)"
   ]
  },
  {
   "cell_type": "code",
   "execution_count": 35,
   "id": "a6d5a3ab-f6f3-41a9-9b66-e6c6e5c764c8",
   "metadata": {},
   "outputs": [
    {
     "name": "stdout",
     "output_type": "stream",
     "text": [
      "s //= 2 : 1.0\n"
     ]
    }
   ],
   "source": [
    "s //= 2\n",
    "print(\"s //= 2 :\", s)"
   ]
  },
  {
   "cell_type": "code",
   "execution_count": 36,
   "id": "5c7ea22b-42d3-4c7f-8604-d73c5f4a623b",
   "metadata": {},
   "outputs": [
    {
     "name": "stdout",
     "output_type": "stream",
     "text": [
      "s %= 3 : 1.0\n"
     ]
    }
   ],
   "source": [
    "s %= 3\n",
    "print(\"s %= 3 :\", s)"
   ]
  },
  {
   "cell_type": "code",
   "execution_count": 39,
   "id": "8b3d8336-4380-4bdd-a624-7524b9397d41",
   "metadata": {},
   "outputs": [
    {
     "name": "stdout",
     "output_type": "stream",
     "text": [
      "s ** = 5 : 1.0\n"
     ]
    }
   ],
   "source": [
    "s **= 5\n",
    "print(\"s ** = 5 :\", s)"
   ]
  },
  {
   "cell_type": "markdown",
   "id": "e6adeb28-f7fe-4133-9e6b-3c7620e37c9f",
   "metadata": {},
   "source": [
    "# 3. String"
   ]
  },
  {
   "cell_type": "code",
   "execution_count": 40,
   "id": "2b6ef70a-1a10-473d-bb7e-0f96c7e40415",
   "metadata": {},
   "outputs": [],
   "source": [
    "name=\"Shruti\""
   ]
  },
  {
   "cell_type": "code",
   "execution_count": 41,
   "id": "a281f5c5-288c-4483-bef8-789a50a2881c",
   "metadata": {},
   "outputs": [
    {
     "data": {
      "text/plain": [
       "'Shruti'"
      ]
     },
     "execution_count": 41,
     "metadata": {},
     "output_type": "execute_result"
    }
   ],
   "source": [
    "name"
   ]
  },
  {
   "cell_type": "code",
   "execution_count": 42,
   "id": "dd56a8bd-10bc-471d-9657-a611df3ba166",
   "metadata": {},
   "outputs": [
    {
     "data": {
      "text/plain": [
       "'SHRUTI'"
      ]
     },
     "execution_count": 42,
     "metadata": {},
     "output_type": "execute_result"
    }
   ],
   "source": [
    "name.upper()"
   ]
  },
  {
   "cell_type": "code",
   "execution_count": 43,
   "id": "ddce0004-7a60-4d80-9a6a-f86c418ad4e8",
   "metadata": {},
   "outputs": [
    {
     "data": {
      "text/plain": [
       "'shruti'"
      ]
     },
     "execution_count": 43,
     "metadata": {},
     "output_type": "execute_result"
    }
   ],
   "source": [
    "name.lower()"
   ]
  },
  {
   "cell_type": "code",
   "execution_count": 44,
   "id": "adb3c5d4-c5f6-41dd-8e76-543c9d6e1f2f",
   "metadata": {},
   "outputs": [
    {
     "data": {
      "text/plain": [
       "'Shruti'"
      ]
     },
     "execution_count": 44,
     "metadata": {},
     "output_type": "execute_result"
    }
   ],
   "source": [
    "name "
   ]
  },
  {
   "cell_type": "code",
   "execution_count": 45,
   "id": "3fd3638c-2611-4a06-b71b-1e0e1036c345",
   "metadata": {},
   "outputs": [
    {
     "data": {
      "text/plain": [
       "True"
      ]
     },
     "execution_count": 45,
     "metadata": {},
     "output_type": "execute_result"
    }
   ],
   "source": [
    "name.endswith(\"ti\")"
   ]
  },
  {
   "cell_type": "code",
   "execution_count": 46,
   "id": "1bdf31f6-9d7e-444a-b34b-092cf57391a4",
   "metadata": {},
   "outputs": [
    {
     "data": {
      "text/plain": [
       "1"
      ]
     },
     "execution_count": 46,
     "metadata": {},
     "output_type": "execute_result"
    }
   ],
   "source": [
    "name.count(\"i\")"
   ]
  },
  {
   "cell_type": "code",
   "execution_count": 47,
   "id": "af7494a1-54f9-4411-b977-d2ab35c0602c",
   "metadata": {},
   "outputs": [
    {
     "name": "stdout",
     "output_type": "stream",
     "text": [
      "11\n"
     ]
    }
   ],
   "source": [
    "s=\"datascience\"\n",
    "print(len(s))"
   ]
  },
  {
   "cell_type": "code",
   "execution_count": 48,
   "id": "bad6de7c-8c5a-4383-82f6-eddc4808115d",
   "metadata": {},
   "outputs": [
    {
     "data": {
      "text/plain": [
       "'datas'"
      ]
     },
     "execution_count": 48,
     "metadata": {},
     "output_type": "execute_result"
    }
   ],
   "source": [
    "s[0:5]"
   ]
  },
  {
   "cell_type": "code",
   "execution_count": 49,
   "id": "191ba01c-ded0-4310-a84d-760df20f8820",
   "metadata": {},
   "outputs": [
    {
     "data": {
      "text/plain": [
       "'Datascience'"
      ]
     },
     "execution_count": 49,
     "metadata": {},
     "output_type": "execute_result"
    }
   ],
   "source": [
    "s.capitalize()"
   ]
  },
  {
   "cell_type": "code",
   "execution_count": 50,
   "id": "04c03d91-3ec9-420d-8da6-e161f401eab8",
   "metadata": {},
   "outputs": [
    {
     "data": {
      "text/plain": [
       "'Datascience'"
      ]
     },
     "execution_count": 50,
     "metadata": {},
     "output_type": "execute_result"
    }
   ],
   "source": [
    "s.title() "
   ]
  },
  {
   "cell_type": "code",
   "execution_count": 51,
   "id": "e300401b-d6c5-426d-8f19-7c36d01993b2",
   "metadata": {},
   "outputs": [
    {
     "data": {
      "text/plain": [
       "'Python'"
      ]
     },
     "execution_count": 51,
     "metadata": {},
     "output_type": "execute_result"
    }
   ],
   "source": [
    "s.replace(\"datascience\",\"Python\")  "
   ]
  },
  {
   "cell_type": "code",
   "execution_count": 52,
   "id": "53b6af38-478d-4602-b539-6be065da156b",
   "metadata": {},
   "outputs": [
    {
     "data": {
      "text/plain": [
       "0"
      ]
     },
     "execution_count": 52,
     "metadata": {},
     "output_type": "execute_result"
    }
   ],
   "source": [
    "s.find(\"d\") "
   ]
  },
  {
   "cell_type": "code",
   "execution_count": 53,
   "id": "eaaf42ea-428b-4829-a6e0-1045466f63bd",
   "metadata": {},
   "outputs": [
    {
     "data": {
      "text/plain": [
       "2"
      ]
     },
     "execution_count": 53,
     "metadata": {},
     "output_type": "execute_result"
    }
   ],
   "source": [
    "s.find(\"t\") "
   ]
  },
  {
   "cell_type": "code",
   "execution_count": 54,
   "id": "346020c2-5321-42af-b7e9-02a9c9a32d0a",
   "metadata": {},
   "outputs": [
    {
     "data": {
      "text/plain": [
       "False"
      ]
     },
     "execution_count": 54,
     "metadata": {},
     "output_type": "execute_result"
    }
   ],
   "source": [
    "s.startswith(\"py\")  "
   ]
  },
  {
   "cell_type": "code",
   "execution_count": 55,
   "id": "80cd3fe0-4b43-43f2-b6e7-6ba705c92a2b",
   "metadata": {},
   "outputs": [
    {
     "data": {
      "text/plain": [
       "True"
      ]
     },
     "execution_count": 55,
     "metadata": {},
     "output_type": "execute_result"
    }
   ],
   "source": [
    "s.startswith(\"da\")  "
   ]
  },
  {
   "cell_type": "code",
   "execution_count": 56,
   "id": "be032d87-ebe1-4fd6-be59-8b9d64a515be",
   "metadata": {},
   "outputs": [
    {
     "data": {
      "text/plain": [
       "True"
      ]
     },
     "execution_count": 56,
     "metadata": {},
     "output_type": "execute_result"
    }
   ],
   "source": [
    "s.endswith(\"ce\") "
   ]
  },
  {
   "cell_type": "code",
   "execution_count": 57,
   "id": "f9ff1127-2c5f-4cf9-ad98-d89088f40e58",
   "metadata": {},
   "outputs": [
    {
     "data": {
      "text/plain": [
       "True"
      ]
     },
     "execution_count": 57,
     "metadata": {},
     "output_type": "execute_result"
    }
   ],
   "source": [
    "s.isalpha() "
   ]
  },
  {
   "cell_type": "code",
   "execution_count": 58,
   "id": "e90bbfcf-b095-4a7f-af40-70aaed19e193",
   "metadata": {},
   "outputs": [
    {
     "data": {
      "text/plain": [
       "False"
      ]
     },
     "execution_count": 58,
     "metadata": {},
     "output_type": "execute_result"
    }
   ],
   "source": [
    "s.isdigit()  "
   ]
  },
  {
   "cell_type": "code",
   "execution_count": 59,
   "id": "fe45c44e-80fe-4ca3-87e0-9c3b9f93f4e4",
   "metadata": {},
   "outputs": [
    {
     "data": {
      "text/plain": [
       "'DATASCIENCE'"
      ]
     },
     "execution_count": 59,
     "metadata": {},
     "output_type": "execute_result"
    }
   ],
   "source": [
    "s.swapcase() "
   ]
  },
  {
   "cell_type": "code",
   "execution_count": 60,
   "id": "bfd2aabc-0587-4671-b5e5-748ddf295a3b",
   "metadata": {},
   "outputs": [
    {
     "data": {
      "text/plain": [
       "True"
      ]
     },
     "execution_count": 60,
     "metadata": {},
     "output_type": "execute_result"
    }
   ],
   "source": [
    "s.isalnum()  "
   ]
  },
  {
   "cell_type": "code",
   "execution_count": 61,
   "id": "faa51438-bcd6-4bca-a36b-908f58e24b24",
   "metadata": {},
   "outputs": [
    {
     "data": {
      "text/plain": [
       "True"
      ]
     },
     "execution_count": 61,
     "metadata": {},
     "output_type": "execute_result"
    }
   ],
   "source": [
    "a=\"1one\"\n",
    "a.isalnum()  "
   ]
  },
  {
   "cell_type": "code",
   "execution_count": 62,
   "id": "8f60e2f9-a929-4a0d-b503-3720ee363e7c",
   "metadata": {},
   "outputs": [
    {
     "data": {
      "text/plain": [
       "b'datascience'"
      ]
     },
     "execution_count": 62,
     "metadata": {},
     "output_type": "execute_result"
    }
   ],
   "source": [
    "s.encode()"
   ]
  },
  {
   "cell_type": "code",
   "execution_count": 63,
   "id": "b1beccc6-56d6-43cf-aaa0-c32658b37cf3",
   "metadata": {},
   "outputs": [
    {
     "data": {
      "text/plain": [
       "'datascience'"
      ]
     },
     "execution_count": 63,
     "metadata": {},
     "output_type": "execute_result"
    }
   ],
   "source": [
    "s.casefold()"
   ]
  },
  {
   "cell_type": "code",
   "execution_count": 64,
   "id": "5c3b6bfb-b036-45a3-8148-fb554572ec19",
   "metadata": {},
   "outputs": [
    {
     "data": {
      "text/plain": [
       "['s', 'h', 'r', 'u', 't', 'i']"
      ]
     },
     "execution_count": 64,
     "metadata": {},
     "output_type": "execute_result"
    }
   ],
   "source": [
    "spt=\"s,h,r,u,t,i\"\n",
    "spt.split(\",\") "
   ]
  },
  {
   "cell_type": "code",
   "execution_count": 65,
   "id": "157f3c13-5ca5-487c-a5bd-fbe191375a65",
   "metadata": {},
   "outputs": [
    {
     "name": "stdout",
     "output_type": "stream",
     "text": [
      "Hello, Maddy!\n"
     ]
    }
   ],
   "source": [
    "name = \"Maddy\"\n",
    "msg = \"Hello, {}!\".format(name)\n",
    "print(msg)"
   ]
  },
  {
   "cell_type": "code",
   "execution_count": 66,
   "id": "d86c835f-c2a0-42bf-b8eb-3d7b0509e780",
   "metadata": {},
   "outputs": [
    {
     "name": "stdout",
     "output_type": "stream",
     "text": [
      "Name: Maddy, Age: 18\n"
     ]
    }
   ],
   "source": [
    "data = {\"name\": \"Maddy\", \"age\": 18}\n",
    "d = \"Name: {name}, Age: {age}\".format_map(data)\n",
    "print(d)"
   ]
  },
  {
   "cell_type": "code",
   "execution_count": 67,
   "id": "33eea229-68c7-43fa-b96b-d06a73460fbd",
   "metadata": {},
   "outputs": [
    {
     "name": "stdout",
     "output_type": "stream",
     "text": [
      "Python is simple\n"
     ]
    }
   ],
   "source": [
    "words = ['Python', 'is', 'simple']\n",
    "sentence = ' '.join(words)\n",
    "print(sentence)"
   ]
  },
  {
   "cell_type": "code",
   "execution_count": 68,
   "id": "b1de9952-9e1e-4808-99f3-6d9861560045",
   "metadata": {},
   "outputs": [
    {
     "name": "stdout",
     "output_type": "stream",
     "text": [
      "apple, banana, cherry\n"
     ]
    }
   ],
   "source": [
    "items = ['apple', 'banana', 'cherry']\n",
    "result = ', '.join(items)\n",
    "print(result)"
   ]
  },
  {
   "cell_type": "markdown",
   "id": "f583cbd8-8fd5-4d81-95b2-7eb78a6ce602",
   "metadata": {},
   "source": [
    "# 4. File Handling"
   ]
  },
  {
   "cell_type": "markdown",
   "id": "0293b248-dab2-44dd-ae26-22ae300bb184",
   "metadata": {},
   "source": [
    "# file handling by using read function"
   ]
  },
  {
   "cell_type": "code",
   "execution_count": 76,
   "id": "bea81509-2354-4296-9fcf-c33b44335715",
   "metadata": {},
   "outputs": [],
   "source": [
    "file = open(\"data.txt\",\"r\")"
   ]
  },
  {
   "cell_type": "code",
   "execution_count": 77,
   "id": "b0cdcf3c-5216-4e75-b06b-8cc230fd6326",
   "metadata": {},
   "outputs": [],
   "source": [
    "content = file.read()"
   ]
  },
  {
   "cell_type": "code",
   "execution_count": 78,
   "id": "c735a945-cc67-45bc-a29f-04a5b2c529e9",
   "metadata": {},
   "outputs": [
    {
     "name": "stdout",
     "output_type": "stream",
     "text": [
      "students =\n",
      "[\n",
      "    {\"id\": 1, \"name\": \"Maddy\", \"marks\": 85},\n",
      "    {\"id\": 2, \"name\": \"Riya\", \"marks\": 72},\n",
      "    {\"id\": 3, \"name\": \"Madhura\", \"marks\": 60},\n",
      "    {\"id\": 4, \"name\": \"Niya\", \"marks\": 90},\n",
      "    {\"id\": 5, \"name\": \"Arya\", \"marks\": 45}\n",
      "]\n",
      "\n",
      "\n"
     ]
    }
   ],
   "source": [
    "print (content)"
   ]
  },
  {
   "cell_type": "code",
   "execution_count": 79,
   "id": "dae4cce0-f843-4316-941d-cdc97a39e107",
   "metadata": {},
   "outputs": [],
   "source": [
    "file.close()"
   ]
  },
  {
   "cell_type": "markdown",
   "id": "0db54131-461c-4b38-90c1-402cfe0cfd20",
   "metadata": {},
   "source": [
    "# file handling by using readline function"
   ]
  },
  {
   "cell_type": "code",
   "execution_count": 83,
   "id": "e97af9a7-1abd-4542-bf56-ccec24fb3ade",
   "metadata": {},
   "outputs": [
    {
     "name": "stdout",
     "output_type": "stream",
     "text": [
      "students =\n",
      "\n"
     ]
    }
   ],
   "source": [
    "file = open(\"data.txt\", \"r\")  \n",
    "line1 = file.readline()       \n",
    "print(line1)                  \n",
    "file.close()                  "
   ]
  },
  {
   "cell_type": "markdown",
   "id": "2111e01f-27c9-4d89-8dd8-ec8c012e9469",
   "metadata": {},
   "source": [
    "# using write function"
   ]
  },
  {
   "cell_type": "code",
   "execution_count": 84,
   "id": "d2a8b2f6-46cd-4def-95ab-623249b1b9ba",
   "metadata": {},
   "outputs": [],
   "source": [
    "file = open(\"data.txt\",\"w\")"
   ]
  },
  {
   "cell_type": "code",
   "execution_count": 85,
   "id": "dfb78cad-d24d-4339-acfb-4fa205b6becf",
   "metadata": {},
   "outputs": [],
   "source": [
    "file.write(\"Student_Information\")\n",
    "file.close()"
   ]
  },
  {
   "cell_type": "markdown",
   "id": "9fabfe4b-b049-45de-9399-c1f36a3b0cd5",
   "metadata": {},
   "source": [
    "# using append function"
   ]
  },
  {
   "cell_type": "code",
   "execution_count": 86,
   "id": "7cc1bdc2-10e0-4555-aa58-9718e663a719",
   "metadata": {},
   "outputs": [],
   "source": [
    "file = open(\"data.txt\",\"a\")\n",
    "file.write(\"\\nThis file contain students details.\")\n",
    "file.close()"
   ]
  },
  {
   "cell_type": "markdown",
   "id": "c9639ff2-5abf-45ec-8d95-35b07b58d30b",
   "metadata": {},
   "source": [
    "# using with statement"
   ]
  },
  {
   "cell_type": "code",
   "execution_count": 87,
   "id": "4d667882-8d72-42b4-9d13-9df8a6623372",
   "metadata": {},
   "outputs": [
    {
     "name": "stdout",
     "output_type": "stream",
     "text": [
      "Student_Information\n",
      "This file contain students details.\n"
     ]
    }
   ],
   "source": [
    "with open(\"data.txt\",\"r\") as file:\n",
    "    content = file.read()\n",
    "    print(content)"
   ]
  },
  {
   "cell_type": "markdown",
   "id": "5ec6104b-5b62-4678-9613-7062fef43435",
   "metadata": {},
   "source": [
    "# using tell method"
   ]
  },
  {
   "cell_type": "code",
   "execution_count": 88,
   "id": "67f109f3-d810-42e6-b097-6ff03ce6c476",
   "metadata": {},
   "outputs": [
    {
     "name": "stdout",
     "output_type": "stream",
     "text": [
      "0\n"
     ]
    }
   ],
   "source": [
    "f = open(\"data.txt\", \"r\")\n",
    "print(f.tell())"
   ]
  },
  {
   "cell_type": "markdown",
   "id": "7d55259f-3553-4f40-8efb-391bcef88bed",
   "metadata": {},
   "source": [
    "# using truncate method"
   ]
  },
  {
   "cell_type": "code",
   "execution_count": 89,
   "id": "118e6373-42ff-439d-9fa8-c58d80761e4f",
   "metadata": {},
   "outputs": [],
   "source": [
    "f = open(\"data.txt\", \"a\")\n",
    "f.truncate(20)\n",
    "f.close()"
   ]
  },
  {
   "cell_type": "code",
   "execution_count": 90,
   "id": "8cc0fd7a-f1e6-4346-bfb3-83f41ca57379",
   "metadata": {},
   "outputs": [
    {
     "name": "stdout",
     "output_type": "stream",
     "text": [
      "Student_Information\n",
      "\n"
     ]
    }
   ],
   "source": [
    "f = open(\"data.txt\", \"r\")\n",
    "print(f.read())"
   ]
  },
  {
   "cell_type": "markdown",
   "id": "457511cd-69ed-4897-8cd2-af0b80c7594b",
   "metadata": {},
   "source": [
    "# using seek method"
   ]
  },
  {
   "cell_type": "code",
   "execution_count": 91,
   "id": "cad6bfec-d2e2-4701-8aaf-a61fffda2119",
   "metadata": {},
   "outputs": [
    {
     "name": "stdout",
     "output_type": "stream",
     "text": [
      "ent_Information\n",
      "\n"
     ]
    }
   ],
   "source": [
    "f = open(\"data.txt\", \"r\")\n",
    "f.seek(4)\n",
    "print(f.readline())"
   ]
  },
  {
   "cell_type": "markdown",
   "id": "13ed91c3-cd17-4cce-a88a-aae7d565703f",
   "metadata": {},
   "source": [
    "# using fileno Method"
   ]
  },
  {
   "cell_type": "code",
   "execution_count": 92,
   "id": "81c1f9e8-8a08-4610-b6a6-a0c78dd94920",
   "metadata": {},
   "outputs": [
    {
     "name": "stdout",
     "output_type": "stream",
     "text": [
      "3\n"
     ]
    }
   ],
   "source": [
    "f = open(\"data.txt\", \"r\")\n",
    "print(f.fileno())"
   ]
  },
  {
   "cell_type": "markdown",
   "id": "aac911fe-4ba3-4ce9-a751-1170635eaab7",
   "metadata": {},
   "source": [
    "# using seekable Method¶"
   ]
  },
  {
   "cell_type": "code",
   "execution_count": 93,
   "id": "795f2291-5488-46aa-8b6e-bf1e40f56b3d",
   "metadata": {},
   "outputs": [
    {
     "name": "stdout",
     "output_type": "stream",
     "text": [
      "True\n"
     ]
    }
   ],
   "source": [
    "f = open(\"data.txt\", \"r\")\n",
    "print(f.seekable())"
   ]
  },
  {
   "cell_type": "code",
   "execution_count": null,
   "id": "44df084d-9136-4db1-ba12-05a791e6ef0f",
   "metadata": {},
   "outputs": [],
   "source": []
  }
 ],
 "metadata": {
  "kernelspec": {
   "display_name": "Python 3 (ipykernel)",
   "language": "python",
   "name": "python3"
  },
  "language_info": {
   "codemirror_mode": {
    "name": "ipython",
    "version": 3
   },
   "file_extension": ".py",
   "mimetype": "text/x-python",
   "name": "python",
   "nbconvert_exporter": "python",
   "pygments_lexer": "ipython3",
   "version": "3.13.5"
  }
 },
 "nbformat": 4,
 "nbformat_minor": 5
}
