{
 "cells": [
  {
   "cell_type": "markdown",
   "id": "67fd5b7f-98d6-498d-881c-6229576e99c4",
   "metadata": {},
   "source": [
    "# Name:Shruti Pardeshi\n",
    "# Branch:IT"
   ]
  },
  {
   "cell_type": "markdown",
   "id": "c35ab3ce-9827-4191-8c7d-ed4863c95cdd",
   "metadata": {},
   "source": [
    "# List"
   ]
  },
  {
   "cell_type": "code",
   "execution_count": 9,
   "id": "2af46ee5-b77b-42e1-822c-ed4e72d787d9",
   "metadata": {},
   "outputs": [
    {
     "name": "stdout",
     "output_type": "stream",
     "text": [
      "['apple', 'banana']\n"
     ]
    }
   ],
   "source": [
    "fruits = ['apple', 'banana']\n",
    "print(fruits) "
   ]
  },
  {
   "cell_type": "code",
   "execution_count": 10,
   "id": "a0b815eb-77da-40b3-b615-56dd4dbba173",
   "metadata": {},
   "outputs": [
    {
     "name": "stdout",
     "output_type": "stream",
     "text": [
      "['apple', 'banana', 'orange']\n"
     ]
    }
   ],
   "source": [
    "fruits.append('orange')\n",
    "print(fruits) "
   ]
  },
  {
   "cell_type": "code",
   "execution_count": 11,
   "id": "97cc202e-0621-4f1b-a240-c76a349e8009",
   "metadata": {},
   "outputs": [
    {
     "name": "stdout",
     "output_type": "stream",
     "text": [
      "['apple', 'banana', 'orange', 'grape', 'melon']\n"
     ]
    }
   ],
   "source": [
    "fruits.extend(['grape', 'melon'])\n",
    "print(fruits) "
   ]
  },
  {
   "cell_type": "code",
   "execution_count": 12,
   "id": "49c1b4b1-0124-4dda-8814-5b518b31c8b7",
   "metadata": {},
   "outputs": [
    {
     "name": "stdout",
     "output_type": "stream",
     "text": [
      "['apple', 'orange', 'grape', 'melon']\n"
     ]
    }
   ],
   "source": [
    "fruits.remove('banana')\n",
    "print(fruits) "
   ]
  },
  {
   "cell_type": "code",
   "execution_count": 13,
   "id": "8e0e2a9d-85a5-4212-8120-3a63472d4fcd",
   "metadata": {},
   "outputs": [
    {
     "data": {
      "text/plain": [
       "'melon'"
      ]
     },
     "execution_count": 13,
     "metadata": {},
     "output_type": "execute_result"
    }
   ],
   "source": [
    "fruits.pop()"
   ]
  },
  {
   "cell_type": "code",
   "execution_count": 14,
   "id": "3e8e6764-ecba-49c2-8d73-5de64ff1cc34",
   "metadata": {},
   "outputs": [],
   "source": [
    "fruits.clear()"
   ]
  },
  {
   "cell_type": "code",
   "execution_count": 15,
   "id": "a670351e-f3a3-4087-9add-5e17ec7d9e89",
   "metadata": {},
   "outputs": [
    {
     "name": "stdout",
     "output_type": "stream",
     "text": [
      "[]\n"
     ]
    }
   ],
   "source": [
    "print(fruits)"
   ]
  },
  {
   "cell_type": "code",
   "execution_count": 16,
   "id": "a79efbd4-12e7-4936-a93d-776784b3a168",
   "metadata": {},
   "outputs": [
    {
     "name": "stdout",
     "output_type": "stream",
     "text": [
      "['apple', 'banana', 'cherry']\n"
     ]
    }
   ],
   "source": [
    "fruits = ['apple', 'banana', 'cherry']\n",
    "fruits.index('banana')\n",
    "print(fruits)"
   ]
  },
  {
   "cell_type": "code",
   "execution_count": 17,
   "id": "20445502-ecb1-44e6-a1c8-167b2b4ee8a0",
   "metadata": {},
   "outputs": [],
   "source": [
    "fruits.sort()"
   ]
  },
  {
   "cell_type": "code",
   "execution_count": 18,
   "id": "f0ec6c1e-3734-40c0-b62b-350db0443b3c",
   "metadata": {},
   "outputs": [
    {
     "name": "stdout",
     "output_type": "stream",
     "text": [
      "['apple', 'banana', 'cherry']\n"
     ]
    }
   ],
   "source": [
    "print(fruits)"
   ]
  },
  {
   "cell_type": "code",
   "execution_count": 19,
   "id": "5d87a2c2-17d1-4345-b497-5144456b0f31",
   "metadata": {},
   "outputs": [
    {
     "data": {
      "text/plain": [
       "2"
      ]
     },
     "execution_count": 19,
     "metadata": {},
     "output_type": "execute_result"
    }
   ],
   "source": [
    "fruits = ['apple', 'banana', 'apple']\n",
    "fruits.count('apple')"
   ]
  },
  {
   "cell_type": "code",
   "execution_count": 20,
   "id": "062812da-d19b-47d2-9722-55063ceb173c",
   "metadata": {},
   "outputs": [
    {
     "name": "stdout",
     "output_type": "stream",
     "text": [
      "['apple', 'banana', 'apple']\n"
     ]
    }
   ],
   "source": [
    "fruits.reverse()\n",
    "print(fruits)"
   ]
  },
  {
   "cell_type": "code",
   "execution_count": 21,
   "id": "613f9687-4934-4f86-ac96-053583076829",
   "metadata": {},
   "outputs": [
    {
     "name": "stdout",
     "output_type": "stream",
     "text": [
      "['apple', 'apple', 'banana']\n"
     ]
    }
   ],
   "source": [
    "fruits.sort()\n",
    "print(fruits)"
   ]
  },
  {
   "cell_type": "code",
   "execution_count": 22,
   "id": "72a54f16-884c-4339-95cb-9457c8683a80",
   "metadata": {},
   "outputs": [],
   "source": [
    "fruits_copy = fruits.copy()"
   ]
  },
  {
   "cell_type": "code",
   "execution_count": 23,
   "id": "f4360289-6bcb-48df-b0b5-3b6c9bd9c3a7",
   "metadata": {},
   "outputs": [
    {
     "name": "stdout",
     "output_type": "stream",
     "text": [
      "['apple', 'apple', 'banana']\n"
     ]
    }
   ],
   "source": [
    "print(fruits)"
   ]
  },
  {
   "cell_type": "code",
   "execution_count": 24,
   "id": "c00d4a57-6fc0-4114-9122-a8c1009e0206",
   "metadata": {},
   "outputs": [
    {
     "data": {
      "text/plain": [
       "3"
      ]
     },
     "execution_count": 24,
     "metadata": {},
     "output_type": "execute_result"
    }
   ],
   "source": [
    "len(fruits)"
   ]
  },
  {
   "cell_type": "code",
   "execution_count": 25,
   "id": "273dcd36-f174-4bfc-a780-c86514af0aba",
   "metadata": {},
   "outputs": [
    {
     "data": {
      "text/plain": [
       "'apple'"
      ]
     },
     "execution_count": 25,
     "metadata": {},
     "output_type": "execute_result"
    }
   ],
   "source": [
    "max(fruits) \n",
    "min(fruits)"
   ]
  },
  {
   "cell_type": "code",
   "execution_count": 26,
   "id": "7ab03fb7-4bce-4ac3-af1a-1ac502fa4e72",
   "metadata": {},
   "outputs": [
    {
     "data": {
      "text/plain": [
       "['f', 'r', 'u', 'i', 't']"
      ]
     },
     "execution_count": 26,
     "metadata": {},
     "output_type": "execute_result"
    }
   ],
   "source": [
    "list('fruit')"
   ]
  },
  {
   "cell_type": "markdown",
   "id": "f4c01960-f3f0-4adc-96c9-b259e49a7024",
   "metadata": {},
   "source": [
    "# Tuple"
   ]
  },
  {
   "cell_type": "code",
   "execution_count": 27,
   "id": "d534e816-d696-4647-9afc-d31cfb7ca33d",
   "metadata": {},
   "outputs": [],
   "source": [
    "data = (10, 20, 30, 10, 40)"
   ]
  },
  {
   "cell_type": "code",
   "execution_count": 28,
   "id": "0140cfd5-2f26-4369-a91f-b104b48bb519",
   "metadata": {},
   "outputs": [
    {
     "data": {
      "text/plain": [
       "2"
      ]
     },
     "execution_count": 28,
     "metadata": {},
     "output_type": "execute_result"
    }
   ],
   "source": [
    "data.count(10)"
   ]
  },
  {
   "cell_type": "code",
   "execution_count": 29,
   "id": "f76a91cc-0edb-4f1c-9702-f37e6a95cd8a",
   "metadata": {},
   "outputs": [
    {
     "data": {
      "text/plain": [
       "2"
      ]
     },
     "execution_count": 29,
     "metadata": {},
     "output_type": "execute_result"
    }
   ],
   "source": [
    "data.index(30)"
   ]
  },
  {
   "cell_type": "code",
   "execution_count": 30,
   "id": "bd18ad54-3dd7-48f7-92db-0f8b8a3d00cf",
   "metadata": {},
   "outputs": [
    {
     "data": {
      "text/plain": [
       "5"
      ]
     },
     "execution_count": 30,
     "metadata": {},
     "output_type": "execute_result"
    }
   ],
   "source": [
    "len(data) "
   ]
  },
  {
   "cell_type": "code",
   "execution_count": 31,
   "id": "7f6ed8e3-b71f-4773-ac85-6940bd7880a5",
   "metadata": {},
   "outputs": [
    {
     "data": {
      "text/plain": [
       "40"
      ]
     },
     "execution_count": 31,
     "metadata": {},
     "output_type": "execute_result"
    }
   ],
   "source": [
    "max(data)"
   ]
  },
  {
   "cell_type": "code",
   "execution_count": 32,
   "id": "7bf0350e-33cb-43d1-9c09-cddb7e48a3c6",
   "metadata": {},
   "outputs": [
    {
     "data": {
      "text/plain": [
       "10"
      ]
     },
     "execution_count": 32,
     "metadata": {},
     "output_type": "execute_result"
    }
   ],
   "source": [
    "min(data) "
   ]
  },
  {
   "cell_type": "code",
   "execution_count": 33,
   "id": "ce7c046b-9a72-45b6-b612-b255095c6fdd",
   "metadata": {},
   "outputs": [
    {
     "data": {
      "text/plain": [
       "[10, 10, 20, 30, 40]"
      ]
     },
     "execution_count": 33,
     "metadata": {},
     "output_type": "execute_result"
    }
   ],
   "source": [
    "sorted(data) "
   ]
  },
  {
   "cell_type": "code",
   "execution_count": 34,
   "id": "954a9068-12dd-4fed-86ac-bc02dd15c9e7",
   "metadata": {},
   "outputs": [
    {
     "data": {
      "text/plain": [
       "True"
      ]
     },
     "execution_count": 34,
     "metadata": {},
     "output_type": "execute_result"
    }
   ],
   "source": [
    "all((1, 2, 3)) "
   ]
  },
  {
   "cell_type": "code",
   "execution_count": 35,
   "id": "855b9af3-3bd2-47a1-8931-5f6e76569970",
   "metadata": {},
   "outputs": [
    {
     "data": {
      "text/plain": [
       "False"
      ]
     },
     "execution_count": 35,
     "metadata": {},
     "output_type": "execute_result"
    }
   ],
   "source": [
    "all((1, 0, 3))"
   ]
  },
  {
   "cell_type": "code",
   "execution_count": 36,
   "id": "62ae88c7-1fba-4e58-aed3-08a013a6fe64",
   "metadata": {},
   "outputs": [
    {
     "data": {
      "text/plain": [
       "(1, 2, 3)"
      ]
     },
     "execution_count": 36,
     "metadata": {},
     "output_type": "execute_result"
    }
   ],
   "source": [
    "tuple([1, 2, 3])"
   ]
  },
  {
   "cell_type": "code",
   "execution_count": 37,
   "id": "f4b734bb-4c50-4a17-9c93-91a292be4e8f",
   "metadata": {},
   "outputs": [
    {
     "data": {
      "text/plain": [
       "20"
      ]
     },
     "execution_count": 37,
     "metadata": {},
     "output_type": "execute_result"
    }
   ],
   "source": [
    "data[1] "
   ]
  },
  {
   "cell_type": "code",
   "execution_count": 38,
   "id": "024ca440-5278-48b8-8f78-d63c8f74d7d3",
   "metadata": {},
   "outputs": [
    {
     "data": {
      "text/plain": [
       "(20, 30, 10)"
      ]
     },
     "execution_count": 38,
     "metadata": {},
     "output_type": "execute_result"
    }
   ],
   "source": [
    "data[1:4] "
   ]
  },
  {
   "cell_type": "code",
   "execution_count": 39,
   "id": "3c5c2d0a-1b18-4dd8-8e07-ea3e8c71721f",
   "metadata": {},
   "outputs": [
    {
     "data": {
      "text/plain": [
       "(10, 20, 30, 10, 40, 50, 60)"
      ]
     },
     "execution_count": 39,
     "metadata": {},
     "output_type": "execute_result"
    }
   ],
   "source": [
    "data + (50, 60) "
   ]
  },
  {
   "cell_type": "code",
   "execution_count": 44,
   "id": "53ef4fe7-692b-4542-aa1f-6b086e631a48",
   "metadata": {},
   "outputs": [
    {
     "data": {
      "text/plain": [
       "(10, 20, 30, 10, 40, 10, 20, 30, 10, 40)"
      ]
     },
     "execution_count": 44,
     "metadata": {},
     "output_type": "execute_result"
    }
   ],
   "source": [
    "data * 2 "
   ]
  },
  {
   "cell_type": "code",
   "execution_count": 45,
   "id": "2344926b-427f-40e0-9929-c51a09f0154b",
   "metadata": {},
   "outputs": [
    {
     "name": "stdout",
     "output_type": "stream",
     "text": [
      "7\n"
     ]
    }
   ],
   "source": [
    "a = (1, (2, 3), (4, 5, (6, 7)))\n",
    "print(a[2][2][1]) "
   ]
  },
  {
   "cell_type": "code",
   "execution_count": 47,
   "id": "aaf0fc3b-f420-4dc9-8cfc-63381e4317e9",
   "metadata": {},
   "outputs": [
    {
     "name": "stdout",
     "output_type": "stream",
     "text": [
      "30\n",
      "(20, 30, 40)\n"
     ]
    }
   ],
   "source": [
    "data = (10, 20, 30, 40, 50)\n",
    "print(data[2])     \n",
    "print(data[1:4])"
   ]
  },
  {
   "cell_type": "code",
   "execution_count": 48,
   "id": "a205d24f-b876-49cf-b1b3-3281a4ee2f96",
   "metadata": {},
   "outputs": [
    {
     "data": {
      "text/plain": [
       "(1, 2)"
      ]
     },
     "execution_count": 48,
     "metadata": {},
     "output_type": "execute_result"
    }
   ],
   "source": [
    "tuple('abc')  \n",
    "tuple([1, 2]) "
   ]
  },
  {
   "cell_type": "markdown",
   "id": "a53625c8-a6ca-460a-bee8-d7e304568a55",
   "metadata": {},
   "source": [
    "# Set"
   ]
  },
  {
   "cell_type": "code",
   "execution_count": 49,
   "id": "c99793dc-c989-4b8b-b089-0b6fd0aa1503",
   "metadata": {},
   "outputs": [],
   "source": [
    "numbers = {1, 2, 3, 4}"
   ]
  },
  {
   "cell_type": "code",
   "execution_count": 50,
   "id": "ebe2ca83-dca2-4c35-a824-7c86ccfa5c56",
   "metadata": {},
   "outputs": [
    {
     "name": "stdout",
     "output_type": "stream",
     "text": [
      "{1, 2, 3, 4, 5}\n"
     ]
    }
   ],
   "source": [
    "numbers.add(5)\n",
    "print(numbers)"
   ]
  },
  {
   "cell_type": "code",
   "execution_count": 51,
   "id": "b5d21afe-3c62-457d-b7a6-f36bd320d60e",
   "metadata": {},
   "outputs": [
    {
     "name": "stdout",
     "output_type": "stream",
     "text": [
      "{1, 2, 3, 4, 5, 6, 7}\n"
     ]
    }
   ],
   "source": [
    "numbers.update([6, 7])\n",
    "print(numbers)"
   ]
  },
  {
   "cell_type": "code",
   "execution_count": 52,
   "id": "baaaf259-d877-467e-a339-f3a23f55b553",
   "metadata": {},
   "outputs": [
    {
     "name": "stdout",
     "output_type": "stream",
     "text": [
      "{1, 2, 4, 5, 6, 7}\n"
     ]
    }
   ],
   "source": [
    "numbers.remove(3)\n",
    "print(numbers)"
   ]
  },
  {
   "cell_type": "code",
   "execution_count": 53,
   "id": "3875f1e6-ffbc-4aca-9687-a83a3974ad2b",
   "metadata": {},
   "outputs": [
    {
     "data": {
      "text/plain": [
       "1"
      ]
     },
     "execution_count": 53,
     "metadata": {},
     "output_type": "execute_result"
    }
   ],
   "source": [
    "numbers.pop()"
   ]
  },
  {
   "cell_type": "code",
   "execution_count": 54,
   "id": "01be88c1-dd2e-4385-b8c1-8fcb8b71179e",
   "metadata": {},
   "outputs": [],
   "source": [
    "numbers.discard(10)"
   ]
  },
  {
   "cell_type": "code",
   "execution_count": 55,
   "id": "dd9d4359-9753-4311-bd9c-80d70260e002",
   "metadata": {},
   "outputs": [
    {
     "name": "stdout",
     "output_type": "stream",
     "text": [
      "{2, 4, 5, 6, 7}\n"
     ]
    }
   ],
   "source": [
    "print(numbers)"
   ]
  },
  {
   "cell_type": "code",
   "execution_count": 57,
   "id": "b24f630f-147c-4958-bb57-35f2665530c3",
   "metadata": {},
   "outputs": [
    {
     "name": "stdout",
     "output_type": "stream",
     "text": [
      "set()\n"
     ]
    }
   ],
   "source": [
    "numbers.clear() \n",
    "print(numbers)"
   ]
  },
  {
   "cell_type": "code",
   "execution_count": 58,
   "id": "96bd30db-ce92-4124-a7a8-83bdf3f563c1",
   "metadata": {},
   "outputs": [
    {
     "data": {
      "text/plain": [
       "{1, 2, 3}"
      ]
     },
     "execution_count": 58,
     "metadata": {},
     "output_type": "execute_result"
    }
   ],
   "source": [
    "a = {1, 2}; b = {2, 3}\n",
    "a.union(b) "
   ]
  },
  {
   "cell_type": "code",
   "execution_count": 59,
   "id": "3458e5a3-5035-4b9a-97cf-b3f4de9ec4c2",
   "metadata": {},
   "outputs": [
    {
     "data": {
      "text/plain": [
       "{2}"
      ]
     },
     "execution_count": 59,
     "metadata": {},
     "output_type": "execute_result"
    }
   ],
   "source": [
    "a.intersection(b) "
   ]
  },
  {
   "cell_type": "code",
   "execution_count": 60,
   "id": "b85d02f0-ad9c-4d98-a859-113d522e8a4a",
   "metadata": {},
   "outputs": [
    {
     "data": {
      "text/plain": [
       "{1}"
      ]
     },
     "execution_count": 60,
     "metadata": {},
     "output_type": "execute_result"
    }
   ],
   "source": [
    "a.difference(b)"
   ]
  },
  {
   "cell_type": "code",
   "execution_count": 61,
   "id": "68c3f4e3-3b2e-4592-a309-187475e9f768",
   "metadata": {},
   "outputs": [
    {
     "data": {
      "text/plain": [
       "{1, 3}"
      ]
     },
     "execution_count": 61,
     "metadata": {},
     "output_type": "execute_result"
    }
   ],
   "source": [
    "a.symmetric_difference(b)"
   ]
  },
  {
   "cell_type": "code",
   "execution_count": 65,
   "id": "eb3babc1-465b-4846-9bb5-c3f0e3613602",
   "metadata": {},
   "outputs": [
    {
     "name": "stdout",
     "output_type": "stream",
     "text": [
      "{1, 2, 3}\n",
      "{2, 3}\n"
     ]
    }
   ],
   "source": [
    "a |= b\n",
    "print(a)\n",
    "print(b)"
   ]
  },
  {
   "cell_type": "code",
   "execution_count": 63,
   "id": "008e6f24-0dc4-4a8e-8d7f-0915628814a4",
   "metadata": {},
   "outputs": [
    {
     "data": {
      "text/plain": [
       "True"
      ]
     },
     "execution_count": 63,
     "metadata": {},
     "output_type": "execute_result"
    }
   ],
   "source": [
    "{1, 2}.issubset({1, 2, 3})"
   ]
  },
  {
   "cell_type": "code",
   "execution_count": 66,
   "id": "f8fc5a17-9c90-4f28-91da-1a6927ce80ac",
   "metadata": {},
   "outputs": [
    {
     "data": {
      "text/plain": [
       "True"
      ]
     },
     "execution_count": 66,
     "metadata": {},
     "output_type": "execute_result"
    }
   ],
   "source": [
    "{1, 2, 3}.issuperset({1, 2})"
   ]
  },
  {
   "cell_type": "code",
   "execution_count": 67,
   "id": "58577f5b-5df4-4441-83db-fae43627e5e0",
   "metadata": {},
   "outputs": [
    {
     "data": {
      "text/plain": [
       "0"
      ]
     },
     "execution_count": 67,
     "metadata": {},
     "output_type": "execute_result"
    }
   ],
   "source": [
    "len(numbers)"
   ]
  },
  {
   "cell_type": "code",
   "execution_count": 68,
   "id": "a6ec0ecf-f304-45de-906b-bdf8cecf0e8a",
   "metadata": {},
   "outputs": [
    {
     "data": {
      "text/plain": [
       "7"
      ]
     },
     "execution_count": 68,
     "metadata": {},
     "output_type": "execute_result"
    }
   ],
   "source": [
    "max({1, 4, 7})"
   ]
  },
  {
   "cell_type": "code",
   "execution_count": 69,
   "id": "01c80da6-4444-4bb3-af01-e6ba594c0d25",
   "metadata": {},
   "outputs": [
    {
     "data": {
      "text/plain": [
       "True"
      ]
     },
     "execution_count": 69,
     "metadata": {},
     "output_type": "execute_result"
    }
   ],
   "source": [
    "{1, 2}.isdisjoint({3, 4}) "
   ]
  },
  {
   "cell_type": "code",
   "execution_count": null,
   "id": "13d85fa2-dda8-453f-97cc-f4475c365dea",
   "metadata": {},
   "outputs": [],
   "source": []
  }
 ],
 "metadata": {
  "kernelspec": {
   "display_name": "Python 3 (ipykernel)",
   "language": "python",
   "name": "python3"
  },
  "language_info": {
   "codemirror_mode": {
    "name": "ipython",
    "version": 3
   },
   "file_extension": ".py",
   "mimetype": "text/x-python",
   "name": "python",
   "nbconvert_exporter": "python",
   "pygments_lexer": "ipython3",
   "version": "3.13.5"
  }
 },
 "nbformat": 4,
 "nbformat_minor": 5
}
